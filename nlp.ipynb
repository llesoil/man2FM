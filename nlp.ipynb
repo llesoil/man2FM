{
 "cells": [
  {
   "cell_type": "code",
   "execution_count": 3,
   "metadata": {},
   "outputs": [],
   "source": [
    "import spacy\n",
    "import os\n",
    "import re\n",
    "import numpy as np"
   ]
  },
  {
   "cell_type": "markdown",
   "metadata": {},
   "source": [
    "#### Separate section?\n",
    "\n",
    "To isolate the 'OPTION' section\n",
    "\n",
    "@Gwendal idea, also keep the synopsis section, and analyze it in parallel"
   ]
  },
  {
   "cell_type": "code",
   "execution_count": null,
   "metadata": {},
   "outputs": [],
   "source": []
  },
  {
   "cell_type": "markdown",
   "metadata": {},
   "source": [
    "#### Features extraction"
   ]
  },
  {
   "cell_type": "code",
   "execution_count": 223,
   "metadata": {
    "scrolled": false
   },
   "outputs": [
    {
     "data": {
      "text/plain": [
       "{'-Pps': [],\n",
       " '--config-file': ['-C'],\n",
       " '--debug': ['-d'],\n",
       " '--default': ['-D'],\n",
       " '--whatis': ['-f'],\n",
       " '--apropos': ['-k'],\n",
       " '--global-apropos': ['-K'],\n",
       " '-force': [],\n",
       " '--local-file': ['-l'],\n",
       " '--location': ['-w', '--where', '--path'],\n",
       " '--location-cat': ['-W', '--where-cat'],\n",
       " '--catman': ['-c'],\n",
       " '--recode': ['-R'],\n",
       " '--locale': ['-L'],\n",
       " '--manpath': ['-M'],\n",
       " '-m': [],\n",
       " '-db': [],\n",
       " '--sections': ['-S', '-s'],\n",
       " '--extension': ['-e'],\n",
       " '--ignore-case': ['-i'],\n",
       " '--match-case': ['-I'],\n",
       " '--regex': [],\n",
       " '--wildcard': [],\n",
       " '--names-only': [],\n",
       " '--all': ['-a'],\n",
       " '--update': ['-u'],\n",
       " '--no-subpages': [],\n",
       " '--pager': ['-P'],\n",
       " '--prompt': ['-r'],\n",
       " '--ascii': ['-7'],\n",
       " '--encoding': ['-E'],\n",
       " '--nh': ['--no-hyphenation'],\n",
       " '--nj': ['--no-justification'],\n",
       " '--preprocessor': ['-p'],\n",
       " '--troff': ['-t'],\n",
       " '-time': [],\n",
       " '--ditroff': ['-Z', '-t', '-H', '-T'],\n",
       " '-processor': [],\n",
       " '--help': [],\n",
       " '--usage': [],\n",
       " '--version': ['-V'],\n",
       " '-empty': []}"
      ]
     },
     "execution_count": 223,
     "metadata": {},
     "output_type": "execute_result"
    }
   ],
   "source": [
    "def extract_features(regex, liststr, features):\n",
    "    \n",
    "    # inputs : a regular expression regex, a list of strings, a dictionary to store features\n",
    "    # output : listout, with additional found patterns\n",
    "    \n",
    "    for line in liststr:\n",
    "        f_found = re.findall(regex, line+',')\n",
    "        name_index = len(f_found)-1\n",
    "        if name_index >= 0:\n",
    "            f_name = f_found[name_index]\n",
    "            f_synonyms = f_found[:name_index]\n",
    "            if f_name not in features:\n",
    "                \n",
    "                # TODO : deal with synonyms (in f_found lists)\n",
    "                \n",
    "                features[f_name] = [syn for syn in f_synonyms if syn != []]\n",
    "                \n",
    "    return features\n",
    "\n",
    "def extract_pattern(regex, liststr, listout):\n",
    "    \n",
    "    # inputs : a regular expression regex, a list of strings, a list listout to store the patterns\n",
    "    # output : listout, with additional found patterns\n",
    "    \n",
    "    for line in liststr:\n",
    "        patterns = re.findall(regex, line)\n",
    "        for pat in patterns:\n",
    "            if pat not in listout:\n",
    "                listout.append(pat)\n",
    "    \n",
    "    return listout\n",
    "\n",
    "def extract_feature(cmd_name):\n",
    "    \n",
    "    # input :  a string, that contains a name of tool or software \"x264\"\n",
    "    # output : the list of command line options or features that we can configure in the tool or software\n",
    "    \n",
    "    file_location = \"./data/\"+cmd_name+\".txt\"\n",
    "    os.system(\"man \"+cmd_name+\" >> \"+file_location)\n",
    "    \n",
    "    doc = []\n",
    "    \n",
    "    features = dict()\n",
    "\n",
    "    #feature_names = []\n",
    "    #arg_types = []\n",
    "    #arg_names = []\n",
    "    #shortcuts = []\n",
    "    \n",
    "    #regex_features = r'(-+[\\w|-]+)\\s*[=|:|\\[]*[\\w|-]*'\n",
    "    \n",
    "    accu_features = r'(-+[\\w|-]+)[\\[|:|=]*\\s*[\\w|-]*\\s*,\\s*?'\n",
    "    \n",
    "    #regex_feature_short_names = r'\\s(-[a-zA-Z0-9][a-zA-Z0-9]*)\\s*'\n",
    "    #regex_feature_names = r'(--[a-z|-]*)[\\[.+?\\]|]*'\n",
    "    #regex_similar_features = r'[--[a-z|-], ]*'\n",
    "    #regex_args = r'('+regex_feature_names+')\\s*<(.+?)>'\n",
    "    #regex_arg_names = r'('+regex_feature_names+r')(\\[[=|:][a-zA-Z0-9]*\\]|=[a-zA-Z0-9]*)'\n",
    "    #regex_shortcuts = r'(-[a-zA-Z0-9]*)\\s*,\\s*('+regex_feature_names+')'\n",
    "    #regex_link_shortcuts = r'(-[a-zA-Z0-9][a-zA-Z0-9]*)\\s*[a-zA-Z0-9|-]*,\\s*('+regex_feature_names+')'\n",
    "    \n",
    "    with open(file_location, \"r\") as file:\n",
    "\n",
    "        line_doc = file.read().split('\\n')\n",
    "\n",
    "        doc.extend(line_doc)\n",
    "    \n",
    "    extract_features(accu_features, doc, features)\n",
    "    \n",
    "    #extract_pattern(regex_feature_names, doc, feature_names)\n",
    "    #extract_pattern(regex_feature_short_names, doc, feature_names)\n",
    "    #extract_pattern(regex_args, doc, arg_types)\n",
    "    #extract_pattern(regex_arg_names, doc, arg_names)\n",
    "    #extract_pattern(regex_shortcuts, doc, shortcuts)\n",
    "    #extract_pattern(regex_link_shortcuts, doc, shortcuts)\n",
    "    \n",
    "    # in case there are two shortcuts? -r, -R, --recursive?\n",
    "    # in case there is only one minus (e.g. -o without --options following)?\n",
    "    \n",
    "    #for fn in feature_names:\n",
    "    #    \n",
    "    #    features[fn] =  (\n",
    "    #                     [short[0] for short in shortcuts if short[1]==fn and short[0] != []], \n",
    "    #                     [at[1] for at in arg_types if at[0]==fn],\n",
    "    #                     [an[1] for an in arg_names if an[0]==fn]\n",
    "    #                    )\n",
    "    \n",
    "    # drop shortcut features\n",
    "    to_drop = []\n",
    "    \n",
    "    for f in features.keys():\n",
    "        for f_syn in features[f]:\n",
    "            if f_syn in features.keys():\n",
    "                features[f].extend([f_s for f_s in features[f_syn] if f_s not in features[f]])\n",
    "                to_drop.append(f_syn)\n",
    "    \n",
    "    for td in to_drop:\n",
    "        if td in features.keys():\n",
    "            del features[td]\n",
    "    \n",
    "    #if '-' in features:\n",
    "    #    del features['-']\n",
    "            \n",
    "    return features\n",
    "\n",
    "#print(len(feature_names),\"features : \")\n",
    "#print(feature_names)\n",
    "#print(\"\\n\")\n",
    "\n",
    "extract_feature(\"man\")"
   ]
  },
  {
   "cell_type": "code",
   "execution_count": null,
   "metadata": {
    "scrolled": false
   },
   "outputs": [],
   "source": []
  },
  {
   "cell_type": "code",
   "execution_count": null,
   "metadata": {},
   "outputs": [],
   "source": []
  },
  {
   "cell_type": "code",
   "execution_count": null,
   "metadata": {},
   "outputs": [],
   "source": []
  },
  {
   "cell_type": "code",
   "execution_count": null,
   "metadata": {},
   "outputs": [],
   "source": []
  },
  {
   "cell_type": "code",
   "execution_count": null,
   "metadata": {},
   "outputs": [],
   "source": []
  },
  {
   "cell_type": "code",
   "execution_count": null,
   "metadata": {},
   "outputs": [],
   "source": []
  },
  {
   "cell_type": "code",
   "execution_count": null,
   "metadata": {},
   "outputs": [],
   "source": []
  },
  {
   "cell_type": "code",
   "execution_count": null,
   "metadata": {},
   "outputs": [],
   "source": []
  },
  {
   "cell_type": "code",
   "execution_count": null,
   "metadata": {},
   "outputs": [],
   "source": []
  },
  {
   "cell_type": "code",
   "execution_count": null,
   "metadata": {},
   "outputs": [],
   "source": []
  }
 ],
 "metadata": {
  "kernelspec": {
   "display_name": "Python 3",
   "language": "python",
   "name": "python3"
  },
  "language_info": {
   "codemirror_mode": {
    "name": "ipython",
    "version": 3
   },
   "file_extension": ".py",
   "mimetype": "text/x-python",
   "name": "python",
   "nbconvert_exporter": "python",
   "pygments_lexer": "ipython3",
   "version": "3.8.1"
  }
 },
 "nbformat": 4,
 "nbformat_minor": 4
}
